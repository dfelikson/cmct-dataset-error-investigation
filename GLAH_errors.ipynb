{
 "cells": [
  {
   "cell_type": "code",
   "execution_count": 381,
   "id": "quality-butterfly",
   "metadata": {},
   "outputs": [],
   "source": [
    "from netCDF4 import Dataset\n",
    "\n",
    "import glob\n",
    "from pathlib import Path\n",
    "\n",
    "import numpy as np\n",
    "from time import sleep\n",
    "from matplotlib import pyplot as plt\n",
    "from IPython import display"
   ]
  },
  {
   "cell_type": "code",
   "execution_count": 382,
   "id": "neutral-sequence",
   "metadata": {},
   "outputs": [],
   "source": [
    "cmct_dir = Path('/home/jovyan/cmct-glas-data-errors/data/GLAS_Data/2005')\n",
    "\n",
    "#def cmct_files(files: list):\n",
    "g1 = [cmct_dir/'GLA12_634_2111_003_0127_0_01_0001.CMCT.final.nc', \n",
    "      cmct_dir/'GLA12_634_2111_003_0001_0_01_0001.CMCT.final.nc']\n",
    "                # Files: 003_0127 x 003_0001\n",
    "g2 = [cmct_dir/'GLA12_634_2111_003_0127_0_01_0001.CMCT.final.nc']\n",
    "                # Files: 003_0127\n",
    "g3 = [cmct_dir/'GLA12_634_2111_003_0001_0_01_0001.CMCT.final.nc']\n",
    "                # Files: 003_0001\n",
    "g4 = [cmct_dir/'GLA12_634_2111_003_0001_0_01_0001.CMCT.final.nc',\n",
    "      cmct_dir/'GLA12_634_2111_002_0211_0_01_0001.CMCT.final.nc']\n",
    "                # Files: 002_0211 x 003_0001\n",
    "g5 = [cmct_dir/'GLA12_634_2113_001_1303_0_01_0001.CMCT.final.nc', \n",
    "      cmct_dir/'GLA12_634_2111_002_0113_0_01_0001.CMCT.final.nc']\n",
    "                # Files: 001_1303 x 002_0113\n",
    "g6 = [cmct_dir/'GLA12_634_2111_002_0113_0_01_0001.CMCT.final.nc']\n",
    "                # File: 002_0113\n",
    "g7 = [cmct_dir/'GLA12_634_2113_002_0127_0_01_0001.CMCT.final.nc']\n",
    "                # File: 002_0127\n",
    "g8 = [cmct_dir/'GLA12_634_2111_001_1317_0_01_0001.CMCT.final.nc']\n",
    "                # File: 001_1317\n",
    "g9 = [cmct_dir/'GLA12_634_2111_001_1317_0_01_0001.CMCT.final.nc', \n",
    "      cmct_dir/'GLA12_634_2111_003_0071_0_01_0001.CMCT.final.nc']\n",
    "                # Files: 003_0071 x 001_1317\n",
    "g10 = [cmct_dir/'GLA12_634_2111_001_1317_0_01_0001.CMCT.final.nc', \n",
    "       cmct_dir/'GLA12_634_2111_003_0071_0_01_0001.CMCT.final.nc']\n",
    "                # Files: 002_0323 x 001_1317"
   ]
  },
  {
   "cell_type": "code",
   "execution_count": 383,
   "id": "lesbian-investing",
   "metadata": {},
   "outputs": [],
   "source": [
    "groups = [g1, g2, g3, g4, g5, g6, g7, g8, g9, g10]"
   ]
  },
  {
   "cell_type": "code",
   "execution_count": 384,
   "id": "compliant-healing",
   "metadata": {},
   "outputs": [],
   "source": [
    "zoom_bounds = None\n",
    "zoom_bounds = [310, 320, 75, 80]\n",
    "#zoom_bounds = [312.0, 312.1, 78.05, 78.10]"
   ]
  },
  {
   "cell_type": "code",
   "execution_count": 396,
   "id": "liked-bailey",
   "metadata": {},
   "outputs": [],
   "source": [
    "def create_coords(files):\n",
    "    LON_DEGE = list()\n",
    "    LAT_DEGN = list()\n",
    "    WGS84ELEV_M = list()\n",
    "    DEM_M  = list()\n",
    "    for i_file, file in enumerate(files):\n",
    "        # print('plotting file {:4d} / {:4d}: {:s}'.format(i_file, len(cmct_files), cmct_file))\n",
    "        ncfile = Dataset(file, 'r')\n",
    "     \n",
    "        if zoom_bounds:\n",
    "            idx = (ncfile['LON_DEGE'][:] > zoom_bounds[0]) & (ncfile['LON_DEGE'][:] < zoom_bounds[1]) & \\\n",
    "                  (ncfile['LAT_DEGN'][:] > zoom_bounds[2]) & (ncfile['LAT_DEGN'][:] < zoom_bounds[3])\n",
    "        else:\n",
    "            idx = np.arange(len(ncfile['LON_DEGE'][:]))\n",
    "    \n",
    "        if np.sum(idx) > 0:\n",
    "            LON_DEGE.extend(ncfile['LON_DEGE'][idx])\n",
    "            LAT_DEGN.extend(ncfile['LAT_DEGN'][idx])\n",
    "            WGS84ELEV_M.extend(ncfile['WGS84ELEV_M'][idx])\n",
    "            DEM_M.extend(ncfile['DEM_M'][idx])\n",
    "#             for i in np.where(idx)[0]:\n",
    "#                 print('{:5.0f} {:5.0f} {:5.0f}'.format(ncfile['WGS84ELEV_M'][i], ncfile['DEM_M'][i], ncfile['WGS84ELEV_M'][i]-ncfile['DEM_M'][i]))\n",
    "    \n",
    "    LON_DEGE = np.array(LON_DEGE)\n",
    "    LAT_DEGN = np.array(LAT_DEGN)\n",
    "    WGS84ELEV_M = np.array(WGS84ELEV_M)\n",
    "    DEM_M = np.array(DEM_M)\n",
    "    \n",
    "#     ax_height = fig_height.subplots()\n",
    "#     ax_diff = fig_diff.subplots()\n",
    "#     ax_dem = fig_dem.subplots()\n",
    "    \n",
    "    sc_diff   = ax_diff.scatter(LON_DEGE, LAT_DEGN, 3., c=WGS84ELEV_M-DEM_M, cmap='coolwarm', vmin=-100, vmax=+100)\n",
    "    diff_cb = fig_diff.colorbar(sc_diff)\n",
    "    \n",
    "    return diff_cb"
   ]
  },
  {
   "cell_type": "code",
   "execution_count": null,
   "id": "smaller-louisiana",
   "metadata": {},
   "outputs": [
    {
     "data": {
      "image/png": "[encoded data removed]",
      "text/plain": [
       "<Figure size 432x288 with 2 Axes>"
      ]
     },
     "metadata": {},
     "output_type": "display_data"
    }
   ],
   "source": [
    "fig_diff, ax_diff = plt.subplots()\n",
    "\n",
    "for i, g in enumerate(groups):\n",
    "    ax_diff.clear()\n",
    "    \n",
    "    print(f'group: {i}')\n",
    "    \n",
    "    cb = create_coords(g)\n",
    "\n",
    "    display.clear_output(wait=True)\n",
    "#     display.display(fig_height)\n",
    "    display.display(fig_diff)\n",
    "#     display.display(fig_dem)\n",
    "\n",
    "    cont = input()\n",
    "    \n",
    "    if cont == 'n':\n",
    "        break\n",
    "    \n",
    "    cb.remove()"
   ]
  },
  {
   "cell_type": "code",
   "execution_count": null,
   "id": "architectural-fossil",
   "metadata": {},
   "outputs": [],
   "source": []
  }
 ],
 "metadata": {
  "kernelspec": {
   "display_name": "Python 3",
   "language": "python",
   "name": "python3"
  },
  "language_info": {
   "codemirror_mode": {
    "name": "ipython",
    "version": 3
   },
   "file_extension": ".py",
   "mimetype": "text/x-python",
   "name": "python",
   "nbconvert_exporter": "python",
   "pygments_lexer": "ipython3",
   "version": "3.8.8"
  }
 },
 "nbformat": 4,
 "nbformat_minor": 5
}
