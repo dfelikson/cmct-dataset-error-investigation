{
 "cells": [
  {
   "cell_type": "code",
   "execution_count": 1,
   "id": "broken-windsor",
   "metadata": {},
   "outputs": [],
   "source": [
    "from netCDF4 import Dataset\n",
    "\n",
    "import glob\n",
    "\n",
    "import numpy as np\n",
    "from time import sleep\n",
    "from matplotlib import pyplot as plt\n",
    "from IPython import display"
   ]
  },
  {
   "cell_type": "code",
   "execution_count": 2,
   "id": "purple-guyana",
   "metadata": {},
   "outputs": [],
   "source": [
    "%matplotlib inline\n",
    "plt.ioff()"
   ]
  },
  {
   "cell_type": "code",
   "execution_count": 3,
   "id": "formal-pulse",
   "metadata": {},
   "outputs": [],
   "source": [
    "cmct_dir = 'data/GLAS_Data/2005'\n",
    "cmct_files = glob.glob(cmct_dir + '/*final.nc')"
   ]
  },
  {
   "cell_type": "code",
   "execution_count": 4,
   "id": "blocked-batch",
   "metadata": {},
   "outputs": [],
   "source": [
    "zoom_bounds = None\n",
    "zoom_bounds = [310, 320, 75, 80]\n",
    "#zoom_bounds = [312.0, 312.1, 78.05, 78.10]"
   ]
  },
  {
   "cell_type": "code",
   "execution_count": 5,
   "id": "refined-appreciation",
   "metadata": {},
   "outputs": [],
   "source": [
    "fig_diff, ax_diff = plt.subplots()"
   ]
  },
  {
   "cell_type": "code",
   "execution_count": 6,
   "id": "mobile-breathing",
   "metadata": {},
   "outputs": [],
   "source": [
    "# %matplotlib widget\n",
    "\n",
    "def create_coords(files):\n",
    "    LON_DEGE = list()\n",
    "    LAT_DEGN = list()\n",
    "    WGS84ELEV_M = list()\n",
    "    DEM_M  = list()\n",
    "    for i_file, cmct_file in enumerate(files):\n",
    "    #     print('plotting file {:4d} / {:4d}: {:s}'.format(i_file, len(cmct_files), cmct_file))\n",
    "        ncfile = Dataset(cmct_file, 'r')\n",
    "    \n",
    "        if zoom_bounds:\n",
    "            idx = (ncfile['LON_DEGE'][:] > zoom_bounds[0]) & (ncfile['LON_DEGE'][:] < zoom_bounds[1]) & \\\n",
    "                  (ncfile['LAT_DEGN'][:] > zoom_bounds[2]) & (ncfile['LAT_DEGN'][:] < zoom_bounds[3])\n",
    "        else:\n",
    "            idx = np.arange(len(ncfile['LON_DEGE'][:]))\n",
    "    \n",
    "        if np.sum(idx) > 0:\n",
    "            LON_DEGE.extend(ncfile['LON_DEGE'][idx])\n",
    "            LAT_DEGN.extend(ncfile['LAT_DEGN'][idx])\n",
    "            WGS84ELEV_M.extend(ncfile['WGS84ELEV_M'][idx])\n",
    "            DEM_M.extend(ncfile['DEM_M'][idx])\n",
    "            #for i in np.where(idx)[0]:\n",
    "            #    print('{:5.0f} {:5.0f} {:5.0f}'.format(ncfile['WGS84ELEV_M'][i], ncfile['DEM_M'][i], ncfile['WGS84ELEV_M'][i]-ncfile['DEM_M'][i]))\n",
    "    \n",
    "    LON_DEGE = np.array(LON_DEGE)\n",
    "    LAT_DEGN = np.array(LAT_DEGN)\n",
    "    WGS84ELEV_M = np.array(WGS84ELEV_M)\n",
    "    DEM_M = np.array(DEM_M)\n",
    "    \n",
    "#     ax_height = fig_height.subplots()\n",
    "#     ax_diff = fig_diff.subplots()\n",
    "#     ax_dem = fig_dem.subplots()\n",
    "\n",
    "    sc_diff   = ax_diff.scatter(  LON_DEGE, LAT_DEGN, 3., c=WGS84ELEV_M-DEM_M, cmap='coolwarm', vmin=-100, vmax=+100)\n",
    "    fig_diff.colorbar(sc_diff)"
   ]
  },
  {
   "cell_type": "code",
   "execution_count": 7,
   "id": "composite-classification",
   "metadata": {},
   "outputs": [],
   "source": [
    "# This a for loop. Range of 5 (starting at \"0\"). File names are printed and plotted on the graph. "
   ]
  },
  {
   "cell_type": "code",
   "execution_count": 9,
   "id": "answering-cleaning",
   "metadata": {},
   "outputs": [
    {
     "name": "stdout",
     "output_type": "stream",
     "text": [
      "Processing files: 0 to 5\n",
      "data/GLAS_Data/2005/GLA12_634_2111_003_0029_0_01_0001.CMCT.final.nc\n",
      "data/GLAS_Data/2005/GLA12_634_2111_003_0071_0_01_0001.CMCT.final.nc\n",
      "data/GLAS_Data/2005/GLA12_634_2111_003_0281_0_01_0001.CMCT.final.nc\n",
      "data/GLAS_Data/2005/GLA12_634_2111_002_0323_0_01_0001.CMCT.final.nc\n",
      "data/GLAS_Data/2005/GLA12_634_2111_001_1317_0_01_0001.CMCT.final.nc\n"
     ]
    },
    {
     "data": {
      "image/png": "[encoded data removed]",
      "text/plain": [
       "<Figure size 432x288 with 2 Axes>"
      ]
     },
     "metadata": {
      "needs_background": "light"
     },
     "output_type": "display_data"
    }
   ],
   "source": [
    "# %matplotlib widget\n",
    "\n",
    "fig_diff, ax_diff = plt.subplots()\n",
    "\n",
    "for i in range(1, len(cmct_files)):\n",
    "#     a = input()\n",
    "    lb = i*5 - 5\n",
    "    ub = i*5\n",
    "    \n",
    "    print(f'Processing files: {lb} to {ub}')\n",
    "    print(*cmct_files[lb:ub], sep = \"\\n\")\n",
    "\n",
    "    create_coords(cmct_files[lb:ub])\n",
    "    \n",
    "    plt.show()\n",
    "    sleep(1)\n",
    "    fig_diff.clear()\n",
    "    break"
   ]
  },
  {
   "cell_type": "code",
   "execution_count": null,
   "id": "negative-values",
   "metadata": {},
   "outputs": [],
   "source": [
    "# Range 45-5\n",
    "\n",
    "#2113_002_0351 Notes: Two tracks that cross each other. One blue and the other is dark red to orange. \n",
    "    # 002_0351: Over 75 meters difference. \n",
    "    # "
   ]
  },
  {
   "cell_type": "code",
   "execution_count": null,
   "id": "associate-coordination",
   "metadata": {},
   "outputs": [],
   "source": [
    "# Range 40-5\n",
    "\n",
    "# 2111_003_0309 Notes: A long light orange track. This changes, moves to upper corner as two more track appear with the next file plot.\n",
    "# 2111_002_1317 Notes: Two lines appeared a orange/blue track and a red/orange track. \n",
    "#     002_1317: They intersect with each other at a 50+ meter difference. \n",
    "# 2111_003_0197 Notes: Two more tracks appear. One is a light blue and the other is a orange track. There are are few intersections. \n",
    "#     003_0197: They both cross each other. 25 metter difference. \n",
    "#     003_0197 x 002_1317: the light blue track and the red/orange track. And the orange track and with the red/orange track of 1317 again.\n",
    "#         There is another cross as well with those two files. \n",
    "# 2113_002_0407 Notes: Nothing appears so might be out of bounds. \n",
    "# 2111_002_0183 Notes: Lower right of the plot. No intersections, mostly out of bounds. "
   ]
  },
  {
   "cell_type": "code",
   "execution_count": 39,
   "id": "blocked-dynamics",
   "metadata": {},
   "outputs": [],
   "source": [
    "# Range 35-5\n",
    "\n",
    "# 2113_002_0155 Notes: Nothing appears on the plot. Out of boundary. \n",
    "# 2111_001_1345 Notes: One blue track. \n",
    "# 2113_001_1289 Notes: One orange track. \n",
    "# 2111_002_0197 Notes: Two tracks appeared. A light blue one and a orange to red track. \n",
    "    # 002_0197 x 001_1345: The blue track and the orange/red track. Over 100 meter difference. \n",
    "# 2111_002_0407 Notes: Out of boundary. "
   ]
  },
  {
   "cell_type": "code",
   "execution_count": null,
   "id": "middle-dividend",
   "metadata": {},
   "outputs": [],
   "source": [
    "# Range 30-5\n",
    "\n",
    "# 2111_002_0393 Notes: One long light blue/gray track. This goes to the corner as more files are plotted. \n",
    "# 2113_001_1345 Notes: One track, a orange/blue track. \n",
    "# 2111_002_0071 Notes: One track that intersects with another track. This track is orange. \n",
    "    # 002_0071 x 001_1345: Over a 50 meter difference. \n",
    "# 2113_002_0239 Notes: Two more tracks appear. One is a grayish color and the other is a mostly blue track. There are two tracks from this. \n",
    "    # 002_0239: Both of the tracks intersect with each other. There is 25+ meter error within. \n",
    "    # 002_0239 x 001_1345: Also a 25+ meter difference. \n",
    "# 2111_003_0337: Two more tracks appeared. There are three intersections with this file. A orange/blue track and an orange/red track. \n",
    "    # 003_0337: The two tracks cross with each other. More then 25+ difference. \n",
    "    # 003_0337 x 002_0239: The orange/blue track and the gray track cross each other. They have less of an error then the other intersections.\n",
    "        # Maybe a 5-10 meter error\n",
    "    # 003_0337 x 002_0071: The orange/blue track intersects with the orange track. 10-25 meter difference. "
   ]
  },
  {
   "cell_type": "code",
   "execution_count": null,
   "id": "metallic-vertex",
   "metadata": {},
   "outputs": [],
   "source": [
    "# Range 25-5\n",
    "\n",
    "# 2111_003_0323 Notes: Two tracks. One is bottom left and is gray/white (0 meters) and the other one consists of red and light orange.\n",
    "    # They might intersect outside of the boundaries. \n",
    "# 2111_003_0211 Notes: One blue/orange track that crosses into the red/orange track of #2111_003_0323\n",
    "    # 003_0211 x #003_0323: light blue crosses the red/orange track. Around 25+ meter difference. \n",
    "# 2111_002_0211 Notes: Nothing shows up on the plot. Might be covering the 2111_003_0211 tracks. Will keep not of this. \n",
    "# 2111_002_0351 Notes: Two more tracks appeared with this file. An orange/light blue track and a dark red/orange track. There are some intersections. \n",
    "    # 002_0351: Intersection of the two tracks. Over 75+ meter difference. \n",
    "    # 002_0351 x 003_0323: The orange/blue track crosses with the red/light orange track. At the intersection, it would be over 50+ meters difference. \n",
    "# 2111_002_0099 Notes: A orange/red track that crosses over three other tracks. \n",
    "    # 002_0099 x 002_0351: Crosses with the orange/blue track. A large error, over 50 meters. \n",
    "    # 002_0099 x 003_0211: Crosses with the blue/orange track. Another large margin of error. \n",
    "    # 002_0099 x 003_0323: Crosses over with the gray track. Another large distance between them. "
   ]
  },
  {
   "cell_type": "code",
   "execution_count": 12,
   "id": "inner-visibility",
   "metadata": {
    "tags": []
   },
   "outputs": [],
   "source": [
    "# 001_1317 Notes: Intersection difference is more then 50 meters. Colors are light blue and orange/red. \n",
    "# 002_0323 Notes: Light gray/white line that intersects with the orange/red 001_1317 track. Also more then 50 meters difference as well. \n",
    "# 003_0281 Notes: Does not even show up on the plot. No seen interaction with the tracks. Could be cloud coverage. \n",
    "# 003_0071 Notes: Intersection with light blue track of 001_1317. This track is a grayish/tan tone. Most likely around 10-20 meter difference. \n",
    "# 003_0029 Notes: Does not show up on the plots. \n",
    "\n",
    "#This range was lb = i*5 - 5 and ub = i*5"
   ]
  },
  {
   "cell_type": "code",
   "execution_count": 11,
   "id": "subject-joining",
   "metadata": {},
   "outputs": [],
   "source": [
    "# 002_0141 Notes: Only one blue line. It slightly disappears in is a few small spots (Possibly cloud coverage). Overall it looks be consisent with 0 to -50 meters. \n",
    "# 001_1303 Notes: A three tracks on the plot. Light gray (bottom right), tan (upper right), and light blue (upper left). \n",
    "# 002_0127 Notes: Two more tracks appear that breifly intersect. The tanish one is around 10-15 meters while the light blue/gray is around -5 meters. So there is a 15 to 20 meter difference.\n",
    "# 002_295 Notes: There doesn't seem to be any tracks that appear. Outside of boundaries maybe. \n",
    "# 002_0113 Notes: Dark red to orange track. There is a lighter blue track that appears and turns tan/orange as it gets closer to the red track. This blue track might be 002_0141 track that is altered as more data is added. \n",
    "        # Intersection: Dark Red is around 80 meters. Blue track is around -10 meters. So there is probably a 90 meters difference. \n",
    "\n",
    "# This range was lb = i*10 -5 and ub = i*1"
   ]
  },
  {
   "cell_type": "code",
   "execution_count": 10,
   "id": "painful-viking",
   "metadata": {},
   "outputs": [],
   "source": [
    "# 002_0309 Notes: One long line. Around 10-20 meters. No other tracks. It disappears when other files are implimented into the loop. \n",
    "    # This is at i*15-1. \n",
    "# 003_0001 Notes: Three tracks show up, there is a intersection. Upper tan track is between 10-25 meters. The intersection is a blue track and a gray-ish tan color.\n",
    "    # Blue Track: -30 meters\n",
    "    # Gray-ish Tan Track: 5 meters\n",
    "    # Total Distance: 35 meters\n",
    "# 002_0211 Notes: A new track appears. And there seems to be a brief dotted section that is deep blue, -80 to -90. That section is probably part of the new track. \n",
    "    # Upper section of track is blue then it slowly changes to the gray-ish tan color at the intersection with 003_0001.\n",
    "    # Intersection of 002_0211 & 003_0001 looks to be under (1 meter) since it is very similar color scheme. \n",
    "# 003_0127 Notes: Two more tracks appeared. A lighter blue track next to the blue track of 003_0001. \n",
    "    # Blue Track: -5 to -10 meters. This track crosses with two tracks: \n",
    "        # 003_0001, Grayish-tan Track: There is a distance of 10 to 15 meters between them.  \n",
    "    # Tan/Orange: Two intersections\n",
    "        # Crosses with the Blue track of this file. \n",
    "            # Tan/orange: 30 meters so it is 35 to 40 meter difference\n",
    "        # Crosses the 002_0211 blue/tan track"
   ]
  },
  {
   "cell_type": "code",
   "execution_count": null,
   "id": "public-milwaukee",
   "metadata": {},
   "outputs": [],
   "source": [
    "# Range 20-5\n",
    "\n",
    "# data/GLAS_Data/2005/GLA12_634_2113_002_0365_0_01_0001.CMCT.final.nc\n",
    "# data/GLAS_Data/2005/GLA12_634_2111_002_0155_0_01_0001.CMCT.final.nc\n",
    "# data/GLAS_Data/2005/GLA12_634_2111_001_1247_0_01_0001.CMCT.final.nc\n",
    "# data/GLAS_Data/2005/GLA12_634_2113_002_0141_0_01_0001.CMCT.final.nc\n",
    "# data/GLAS_Data/2005/GLA12_634_2113_002_0015_0_01_0001.CMCT.final.nc\n",
    "\n",
    "#2113_002_0015 Notes: Two tracks. One is around 0 m and the other one is a blue track. "
   ]
  },
  {
   "cell_type": "code",
   "execution_count": null,
   "id": "proprietary-pharmacology",
   "metadata": {},
   "outputs": [],
   "source": []
  },
  {
   "cell_type": "code",
   "execution_count": null,
   "id": "beautiful-edgar",
   "metadata": {},
   "outputs": [],
   "source": []
  },
  {
   "cell_type": "code",
   "execution_count": null,
   "id": "bizarre-trash",
   "metadata": {},
   "outputs": [],
   "source": []
  },
  {
   "cell_type": "code",
   "execution_count": null,
   "id": "animated-bottom",
   "metadata": {},
   "outputs": [],
   "source": []
  },
  {
   "cell_type": "code",
   "execution_count": null,
   "id": "divine-arrangement",
   "metadata": {},
   "outputs": [],
   "source": []
  },
  {
   "cell_type": "code",
   "execution_count": null,
   "id": "super-material",
   "metadata": {},
   "outputs": [],
   "source": []
  }
 ],
 "metadata": {
  "kernelspec": {
   "display_name": "Python 3",
   "language": "python",
   "name": "python3"
  },
  "language_info": {
   "codemirror_mode": {
    "name": "ipython",
    "version": 3
   },
   "file_extension": ".py",
   "mimetype": "text/x-python",
   "name": "python",
   "nbconvert_exporter": "python",
   "pygments_lexer": "ipython3",
   "version": "3.8.8"
  }
 },
 "nbformat": 4,
 "nbformat_minor": 5
}
