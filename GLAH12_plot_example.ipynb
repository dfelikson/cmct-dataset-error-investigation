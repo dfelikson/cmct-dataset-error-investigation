{
 "cells": [
  {
   "cell_type": "code",
   "execution_count": 50,
   "id": "digital-bubble",
   "metadata": {},
   "outputs": [],
   "source": [
    "import h5py\n",
    "import numpy as np\n",
    "from matplotlib import pyplot as plt"
   ]
  },
  {
   "cell_type": "code",
   "execution_count": 33,
   "id": "finite-consciousness",
   "metadata": {},
   "outputs": [],
   "source": [
    "def plot_h5(files: list):\n",
    "    \n",
    "    for file in files:\n",
    "        # Open the file\n",
    "        f = h5py.File(file, 'r')\n",
    "        \n",
    "        # Show the contents of the file\n",
    "        print(f.keys())\n",
    "        \n",
    "        # Show the contents of the Data_40HZ group\n",
    "        print(f['Data_40HZ'].keys())\n",
    "        \n",
    "        # Show the contents of the Elevation_Surfaces group\n",
    "        print(f['Data_40HZ']['Elevation_Surfaces'].keys())\n",
    "        \n",
    "        # Show the contents of the Geolocation group\n",
    "        print(f['Data_40HZ']['Geolocation'].keys())\n",
    "        \n",
    "        # Show the contents of the Geophysical group\n",
    "        print(f['Data_40HZ']['Geophysical'].keys())\n",
    "        \n",
    "        # Extract the latitude, longitude, and elevation\n",
    "        lat = f['Data_40HZ']['Geolocation']['d_lat'][:]\n",
    "        lon = f['Data_40HZ']['Geolocation']['d_lon'][:]\n",
    "        elev = f['Data_40HZ']['Elevation_Surfaces']['d_elev'][:]\n",
    "        elv = f['Data_40HZ']['Geophysical']['d_DEM_elv'][:]\n",
    "        \n",
    "        # Subtract Geophysical from Elevation_Surfaces\n",
    "        elev_elv = elev - elv\n",
    "        \n",
    "        # Remove the invalid data\n",
    "        valid = (lat < 1e8) & (lon < 1e8)\n",
    "        lat = lat[valid]\n",
    "        lon = lon[valid]\n",
    "        elev = elev[valid]\n",
    "        elv = elv[valid]\n",
    "        elev_elv = elev_elv[valid]\n",
    "        \n",
    "        # Select the data within a bounding box\n",
    "        bbox = (lat > 75) & (lat < 80) & (lon > 310) & (lon < 320)\n",
    "        lat = lat[bbox]\n",
    "        lon = lon[bbox]\n",
    "        elev = elev[bbox]\n",
    "        elv = elv[bbox]\n",
    "        elev_elv = elev_elv[bbox]\n",
    "        \n",
    "        # Plot a scatter plot of the elevation data\n",
    "        plt.scatter(lon, lat, 3., c=elev_elv, cmap='coolwarm', vmin=-100, vmax=+100)\n",
    "        \n",
    "        # Close the file\n",
    "        f.close()\n",
    "        \n",
    "    plt.colorbar()"
   ]
  },
  {
   "cell_type": "code",
   "execution_count": 34,
   "id": "addressed-token",
   "metadata": {},
   "outputs": [],
   "source": [
    "g1 = ['/home/jovyan/cmct-glas-data-errors/data/GLAS_Data/2005_Org/GLAH12_634_2111_003_0127_0_01_0001.H5','/home/jovyan/cmct-glas-data-errors/data/GLAS_Data/2005_Org/GLAH12_634_2111_003_0001_0_01_0001.H5']\n",
    "    # Files: # 003_0127 x 003_0001\n",
    "g2 = ['/home/jovyan/cmct-glas-data-errors/data/GLAS_Data/2005_Org/GLAH12_634_2111_003_0127_0_01_0001.H5']\n",
    "    # Files: 003_0127\n",
    "g3 = ['/home/jovyan/cmct-glas-data-errors/data/GLAS_Data/2005_Org/GLAH12_634_2111_003_0001_0_01_0001.H5']\n",
    "    # Files: 003_0001\n",
    "g4 = ['/home/jovyan/cmct-glas-data-errors/data/GLAS_Data/2005_Org/GLAH12_634_2111_003_0001_0_01_0001.H5','/home/jovyan/cmct-glas-data-errors/data/GLAS_Data/2005_Org/GLAH12_634_2113_002_0211_0_01_0001.H5']\n",
    "    # Files: 002_0211 x 003_0001\n",
    "g5 = ['/home/jovyan/cmct-glas-data-errors/data/GLAS_Data/2005_Org/GLAH12_634_2111_002_0113_0_01_0001.H5','/home/jovyan/cmct-glas-data-errors/data/GLAS_Data/2005_Org/GLAH12_634_2113_001_1303_0_01_0001.H5']\n",
    "    # Files: 001_1303 x 002_0113\n",
    "g6 = ['/home/jovyan/cmct-glas-data-errors/data/GLAS_Data/2005_Org/GLAH12_634_2111_002_0113_0_01_0001.H5']\n",
    "    # File: 002_0113\n",
    "g7 = ['/home/jovyan/cmct-glas-data-errors/data/GLAS_Data/2005_Org/GLAH12_634_2113_002_0127_0_01_0001.H5']\n",
    "    # File: 002_0127\n",
    "g8 = ['/home/jovyan/cmct-glas-data-errors/data/GLAS_Data/2005_Org/GLAH12_634_2111_001_1317_0_01_0001.H5']\n",
    "    # File: 001_1317\n",
    "g9 = ['/home/jovyan/cmct-glas-data-errors/data/GLAS_Data/2005_Org/GLAH12_634_2111_001_1317_0_01_0001.H5','/home/jovyan/cmct-glas-data-errors/data/GLAS_Data/2005_Org/GLAH12_634_2111_003_0071_0_01_0001.H5']\n",
    "    # Files: 003_0071 x 001_1317\n",
    "g10 = ['/home/jovyan/cmct-glas-data-errors/data/GLAS_Data/2005_Org/GLAH12_634_2111_001_1317_0_01_0001.H5', '/home/jovyan/cmct-glas-data-errors/data/GLAS_Data/2005_Org/GLAH12_634_2111_002_0323_0_01_0001.H5']\n",
    "    # Files: 002_0323 x 001_1317"
   ]
  },
  {
   "cell_type": "code",
   "execution_count": 56,
   "id": "forward-frontier",
   "metadata": {},
   "outputs": [
    {
     "name": "stdout",
     "output_type": "stream",
     "text": [
      "<KeysViewHDF5 ['ANCILLARY_DATA', 'BROWSE', 'Data_1HZ', 'Data_40HZ', 'METADATA']>\n",
      "<KeysViewHDF5 ['Time', 'Quality', 'Geolocation', 'Elevation_Surfaces', 'Elevation_Corrections', 'Elevation_Angles', 'Elevation_Offsets', 'Elevation_Flags', 'Transmit_Energy', 'Geophysical', 'Reflectivity', 'Waveform', 'Atmosphere', 'DS_DEMhiresArElv', 'DS_UTCTime_40']>\n",
      "<KeysViewHDF5 ['d_elev', 'd_IceSVar', 'd_refRng']>\n",
      "<KeysViewHDF5 ['d_lat', 'd_lon']>\n",
      "<KeysViewHDF5 ['d_d2refTrk', 'd_DEM_elv', 'd_DEMhiresArElv', 'd_eqElv', 'd_erElv', 'd_gdHt', 'd_ldElv', 'd_ocElv', 'd_deltaEllip', 'd_poTide', 'i_DEM_hires_src_1']>\n",
      "<KeysViewHDF5 ['ANCILLARY_DATA', 'BROWSE', 'Data_1HZ', 'Data_40HZ', 'METADATA']>\n",
      "<KeysViewHDF5 ['Time', 'Quality', 'Geolocation', 'Elevation_Surfaces', 'Elevation_Corrections', 'Elevation_Angles', 'Elevation_Offsets', 'Elevation_Flags', 'Transmit_Energy', 'Geophysical', 'Reflectivity', 'Waveform', 'Atmosphere', 'DS_DEMhiresArElv', 'DS_UTCTime_40']>\n",
      "<KeysViewHDF5 ['d_elev', 'd_IceSVar', 'd_refRng']>\n",
      "<KeysViewHDF5 ['d_lat', 'd_lon']>\n",
      "<KeysViewHDF5 ['d_d2refTrk', 'd_DEM_elv', 'd_DEMhiresArElv', 'd_eqElv', 'd_erElv', 'd_gdHt', 'd_ldElv', 'd_ocElv', 'd_deltaEllip', 'd_poTide', 'i_DEM_hires_src_1']>\n"
     ]
    },
    {
     "data": {
      "image/png": "[encoded data removed]",
      "text/plain": [
       "<Figure size 432x288 with 2 Axes>"
      ]
     },
     "metadata": {
      "needs_background": "light"
     },
     "output_type": "display_data"
    }
   ],
   "source": [
    "plot_h5(g5)"
   ]
  },
  {
   "cell_type": "code",
   "execution_count": null,
   "id": "vital-kuwait",
   "metadata": {},
   "outputs": [],
   "source": [
    "# Term defition: \n",
    "    # Orginal: From the Icesat 2005 data found on the NSIDC database.\n",
    "    # Error: From the data that was transferrred over to the new modeling tool. \n",
    "\n",
    "# Track Updates: \n",
    "    # Files: 003_0127 x 003_0001\n",
    "        # Orginal: Looks to be all 0 meters difference. Colors are all consistent. \n",
    "        # Error: There are differences in the altimeter. Blue, orange, and gray tracks. Both files are not correct. \n",
    "    # Files: 003_0127\n",
    "        # Orginal: Looks to be 0 meters. No changes in colors throughout the tracks/intersection. \n",
    "        # Error: A blue and light orange track. Would be a 30+ meter differences. \n",
    "    # Files: 003_0001\n",
    "        # Orginal: Two tracks that intersect that look the same, no changes. \n",
    "        # Error: Blue and pale orange. Difference is over 25 meters. This is where the error is located. \n",
    "    # Files: 002_0211 x 003_0001\n",
    "        # Orginal: No color changes in the tracks. But compared to the \"error file\" this data has a track that breaks up in along its path. \n",
    "        # Error: Part of the intersection looks correct. The bottom intersection looks to be under 1 meter difference. However, the other intersection\n",
    "            # is over a 25 meter difference so the error is there. \n",
    "    # Files: 001_1303 x 002_0113\n",
    "        # Orginal: No changes in color\n",
    "        # Error: Dark red and light blue intersection. \n",
    "    "
   ]
  },
  {
   "cell_type": "code",
   "execution_count": 2,
   "id": "russian-biodiversity",
   "metadata": {},
   "outputs": [],
   "source": [
    "# This is code for the tracks that intersect with a difference of +1 meters: \n",
    "    # 002_0323 x 001_1317\n",
    "    # 003_0071 x 001_1317\n",
    "    # 001_1317: Two tracks with this file. \n",
    "# Group 2\n",
    "    # 002_0127: \n",
    "    # 002_0113: \n",
    "    # 001_1303 x 002_0113: \n",
    "# Group 3\n",
    "    # 003_0001\n",
    "    # 003_0127 x 003_0001\n",
    "    # 003_0127 \n",
    "    # 002_0211 x 003_0001"
   ]
  }
 ],
 "metadata": {
  "kernelspec": {
   "display_name": "Python 3",
   "language": "python",
   "name": "python3"
  },
  "language_info": {
   "codemirror_mode": {
    "name": "ipython",
    "version": 3
   },
   "file_extension": ".py",
   "mimetype": "text/x-python",
   "name": "python",
   "nbconvert_exporter": "python",
   "pygments_lexer": "ipython3",
   "version": "3.8.8"
  }
 },
 "nbformat": 4,
 "nbformat_minor": 5
}
